{
 "cells": [
  {
   "cell_type": "markdown",
   "source": [
    "# Web scrapping (taux de change, aluminium, brent, fuel france, copper, coil, beam, fuel allemagne)\n"
   ],
   "metadata": {}
  },
  {
   "cell_type": "markdown",
   "source": [
    "Dans ce notebook, on récupère les cours de matières premières depuis plusieurs sites internet via du web scrapping. L'objectif est d'analyser ce jeu de donnée par la suite pour le comparer au prix d'achat de ces matières premières.\n",
    "\n",
    "Les sites utilisés sont :\n",
    "- Boursorama : \n",
    "    - taux de change : https://www.boursorama.com/bourse/devises/cours/historique/3fUSD_EURfromSymbol=USD&toSymbol=EUR&fromLabel=dollar&toLabel=euro\n",
    "    - cuivre : https://www.boursorama.com/bourse/indices/cours/7xCAUSD15M/\n",
    "    - aluminium alloy : https://www.boursorama.com/bourse/indices/cours/historique/7xAAUSD15M\n",
    "- Le site de la banque de St Louis pour le brent : https://fred.stlouisfed.org/series/DCOILBRENTEU#\n",
    "- le site du conseil national routier pour le fuel en France : www.cnr.fr/espaces/13/indicateurs/43?noContext=1\n",
    "- Pour l'acier, les valeurs proviennent du site MEPS (https://portal.mepsinternational.com/?logout=true) mais n'ayant pas de login, on a utilisé des extracts fournis\n",
    "\n",
    "\n",
    "Le tableau créé à la fin a 3 colonnes : Date (format JJ/MM/AAAA), Variable (aluminium (EUR), USD/EUROS, copper, Brent (EUR/barrel), fuel fr EUR/L, coils EUR/ton, beams EUR/ton) et Valeur."
   ],
   "metadata": {}
  },
  {
   "cell_type": "code",
   "execution_count": 9,
   "source": [
    "from bs4 import BeautifulSoup\n",
    "import requests\n",
    "import time\n",
    "import pandas as pd"
   ],
   "outputs": [],
   "metadata": {}
  },
  {
   "cell_type": "code",
   "execution_count": 10,
   "source": [
    "import io\n",
    "import codecs"
   ],
   "outputs": [],
   "metadata": {}
  },
  {
   "cell_type": "code",
   "execution_count": 11,
   "source": [
    "li_annees_voulues = [2015, 2016, 2017, 2018, 2019, 2020, 2021, 2022]"
   ],
   "outputs": [],
   "metadata": {}
  },
  {
   "cell_type": "code",
   "execution_count": 12,
   "source": [
    "urla = 'www.boursorama.com'"
   ],
   "outputs": [],
   "metadata": {}
  },
  {
   "cell_type": "code",
   "execution_count": 13,
   "source": [
    "#on recupere les liens des differentes pages de boursorama dont on aura besoin\n",
    "\n",
    "li_url_taux_de_change = []\n",
    "li_url_alu_alloy = []\n",
    "li_url_copper = []\n",
    "\n",
    "for an in li_annees_voulues:\n",
    "    li_url_taux_de_change.append('www.boursorama.com/_formulaire-periode/?symbol=3fUSD_EUR&historic_search%5BstartDate%5D=06/03/'+ str(an) + '&historic_search%5Bduration%5D=1Y&historic_search%5Bperiod%5D=1')\n",
    "    li_url_alu_alloy.append('www.boursorama.com/_formulaire-periode/?symbol=7xAAUSD15M&historic_search%5BstartDate%5D=06/03/'+ str(an) + '&historic_search%5Bduration%5D=1Y&historic_search%5Bperiod%5D=1')\n",
    "    li_url_copper.append('www.boursorama.com/_formulaire-periode/?symbol=7xCAUSD15M&historic_search%5BstartDate%5D=06/03/'+ str(an) + '&historic_search%5Bduration%5D=1Y&historic_search%5Bperiod%5D=1')"
   ],
   "outputs": [],
   "metadata": {}
  },
  {
   "cell_type": "markdown",
   "source": [
    "## Aluminium alloy (boursorama)"
   ],
   "metadata": {}
  },
  {
   "cell_type": "code",
   "execution_count": 14,
   "source": [
    "#on cree un dictionnaire pour l'aluminium dont les clés sont les dates et les valeurs du cours à cette date\n",
    "data_alu_alloy = {}\n",
    "\n",
    "for url in li_url_alu_alloy :\n",
    "    r = requests.get('https://' + url)\n",
    "    soup = BeautifulSoup(r.content, 'html.parser')\n",
    "    diff_pages = soup.select('a')\n",
    "\n",
    "    liens = []\n",
    "    for el in diff_pages:\n",
    "        liens.append(el['href'])\n",
    "    for link in liens:\n",
    "        rbis = requests.get('https://' + urla + link)\n",
    "        soup = BeautifulSoup(rbis.content, 'html.parser')\n",
    "        rows2 = soup.select('tbody tr td')\n",
    "        for i in range (int(len(rows2)/6)-1):\n",
    "            data_alu_alloy[rows2[6*i].text.strip()] = rows2[6*i + 1].text.strip()\n",
    "            \n",
    "# data_alu_alloy"
   ],
   "outputs": [],
   "metadata": {
    "collapsed": true
   }
  },
  {
   "cell_type": "markdown",
   "source": [
    "## Taux de change (boursorama)"
   ],
   "metadata": {}
  },
  {
   "cell_type": "code",
   "execution_count": 15,
   "source": [
    "#on cree un dictionnaire pour le taux de change dont les clés sont les dates et les valeurs le taux de change à la date correspondante\n",
    "\n",
    "data_taux_de_change = {}\n",
    "\n",
    "for url in li_url_taux_de_change :\n",
    "    r = requests.get('https://' + url)\n",
    "    soup = BeautifulSoup(r.content, 'html.parser')\n",
    "    diff_pages = soup.select('a')\n",
    "\n",
    "    liens = []\n",
    "    for el in diff_pages:\n",
    "        liens.append(el['href'])\n",
    "    for link in liens:\n",
    "        rbis = requests.get('https://' + urla + link)\n",
    "        soup = BeautifulSoup(rbis.content, 'html.parser')\n",
    "        rows2 = soup.select('tbody tr td')\n",
    "        for i in range (int(len(rows2)/6)-1):\n",
    "            data_taux_de_change[rows2[6*i].text.strip()] = rows2[6*i + 1].text.strip()\n",
    "\n",
    "# data_taux_de_change"
   ],
   "outputs": [],
   "metadata": {
    "collapsed": true
   }
  },
  {
   "cell_type": "markdown",
   "source": [
    "## Copper (boursorama)"
   ],
   "metadata": {}
  },
  {
   "cell_type": "code",
   "execution_count": 16,
   "source": [
    "#on cree un dictionnaire pour le taux de change dont les clés sont les dates et les valeurs le taux de change à la date correspondante\n",
    "\n",
    "data_copper = {}\n",
    "\n",
    "for url in li_url_copper :\n",
    "    r = requests.get('https://' + url)\n",
    "    soup = BeautifulSoup(r.content, 'html.parser')\n",
    "    diff_pages = soup.select('a')\n",
    "\n",
    "    liens = []\n",
    "    for el in diff_pages:\n",
    "        liens.append(el['href'])\n",
    "    for link in liens:\n",
    "        rbis = requests.get('https://' + urla + link)\n",
    "        soup = BeautifulSoup(rbis.content, 'html.parser')\n",
    "        rows2 = soup.select('tbody tr td')\n",
    "        for i in range (int(len(rows2)/6)-1):\n",
    "            data_copper[rows2[6*i].text.strip()] = rows2[6*i + 1].text.strip()\n",
    "\n",
    "# data_copper"
   ],
   "outputs": [],
   "metadata": {
    "collapsed": true
   }
  },
  {
   "cell_type": "markdown",
   "source": [
    "## Brent (St Louis Fed. economic data)"
   ],
   "metadata": {}
  },
  {
   "cell_type": "code",
   "execution_count": 17,
   "source": [
    "#on récupère le csv sur le site\n",
    "\n",
    "URL = \"https://fred.stlouisfed.org/graph/fredgraph.csv?bgcolor=%23e1e9f0&chart_type=line&drp=0&fo=open%20sans&graph_bgcolor=%23ffffff&height=450&mode=fred&recession_bars=off&txtcolor=%23444444&ts=12&tts=12&width=1168&nt=0&thu=0&trc=0&show_legend=yes&show_axis_titles=yes&show_tooltip=yes&id=DCOILBRENTEU&scale=left&cosd=2017-05-23&coed=2022-05-23&line_color=%234572a7&link_values=false&line_style=solid&mark_type=none&mw=3&lw=2&ost=-99999&oet=99999&mma=0&fml=a&fq=Daily&fam=avg&fgst=lin&fgsnd=2020-02-01&line_index=1&transformation=lin&vintage_date=2022-05-27&revision_date=2022-05-27&nd=1987-05-20\"\n",
    "response = requests.get(URL)\n",
    "open(\"brent_europe.csv\", \"wb\").write(response.content)\n",
    "brent_data = response.content.decode('utf8')\n",
    "\n",
    "#on met en forme le jeu de données (format des valeurs et des dates)\n",
    "\n",
    "a = brent_data.replace('-', '/')\n",
    "a.replace('\\n', ',')\n",
    "\n",
    "data = io.StringIO(a)\n",
    "df = pd.read_csv(data, sep=\",\")\n",
    "df_brent = df.rename(columns = {'DATE' : 'Date'})\n",
    "\n",
    "df_brent['Date'] = pd.to_datetime(df_brent['Date'], errors = 'coerce')\n",
    "df_brent['Date'] = df_brent['Date'].dt.strftime('%d/%m/%Y')\n",
    "df_brent_vrai = df_brent.set_index('Date')\n",
    "\n",
    "df_brent_vrai['DCOILBRENTEU'] = df_brent_vrai['DCOILBRENTEU'].str.replace(' ', '')\n",
    "df_brent_vrai['DCOILBRENTEU'] = pd.to_numeric(df_brent_vrai['DCOILBRENTEU'], errors='coerce')\n",
    "df_brent_vrai.columns = ['Brent (dollar per barrel)']"
   ],
   "outputs": [],
   "metadata": {}
  },
  {
   "cell_type": "markdown",
   "source": [
    "## Fuel France (CNR)"
   ],
   "metadata": {}
  },
  {
   "cell_type": "code",
   "execution_count": 18,
   "source": [
    "data_fuel_fr = {}\n",
    "r = requests.get('https://' + 'www.cnr.fr/espaces/13/indicateurs/43?noContext=1')\n",
    "soup = BeautifulSoup(r.content, 'html.parser')\n",
    "rows_value = soup.select('tr td span')\n",
    "rows_date = soup.select('tr th')"
   ],
   "outputs": [],
   "metadata": {}
  },
  {
   "cell_type": "code",
   "execution_count": 19,
   "source": [
    "li_dates = []\n",
    "for el in rows_date[1:]:\n",
    "    li_dates.append(el.text.strip())"
   ],
   "outputs": [],
   "metadata": {}
  },
  {
   "cell_type": "code",
   "execution_count": 20,
   "source": [
    "data_fuel_fr = {}\n",
    "\n",
    "#ici les données sont arrondies au mois près sur le site : on complète avec \n",
    "#des séries de données constantes (égale à la valeur mensuelle indiquée) sur chaque mois\n",
    "\n",
    "#on normalise le format des dates (JJ/MM/AAAA)\n",
    "\n",
    "for mois in range(1, 13) :\n",
    "    for an in li_dates:\n",
    "        for k in range(1,32):\n",
    "            if k<=9:\n",
    "                if mois <= 9:\n",
    "                    data_fuel_fr['0' + str(k) + '/0' + str(mois) + '/' + an] = rows_value[(mois-1)*23 + int(an)-2000].text.strip().replace(',', '.')\n",
    "                else:\n",
    "                    data_fuel_fr['0'+str(k) + '/' + str(mois) + '/' + an] = rows_value[(mois-1)*23 + int(an)-2000].text.strip().replace(',', '.')\n",
    "            else :\n",
    "                if mois <=9:\n",
    "                    data_fuel_fr[str(k) + '/0' + str(mois) + '/' + an] = rows_value[(mois-1)*23 + int(an)-2000].text.strip().replace(',', '.')\n",
    "                else:\n",
    "                    data_fuel_fr[str(k) + '/' + str(mois) + '/' + an] = rows_value[(mois-1)*23 + int(an)-2000].text.strip().replace(',', '.')\n",
    "\n",
    "                    \n",
    "\n"
   ],
   "outputs": [],
   "metadata": {}
  },
  {
   "cell_type": "markdown",
   "source": [
    "## Fuel Allemagne"
   ],
   "metadata": {}
  },
  {
   "cell_type": "code",
   "execution_count": 21,
   "source": [
    "data_fuel_all = {}\n",
    "li_dates = []\n",
    "li_valeurs = []\n",
    "\n",
    "for an in li_annees_voulues :\n",
    "    r = requests.get('https://gasoline-germany.com/statistik.phtml?o=7&display=diesel' + str(an))\n",
    "    soup = BeautifulSoup(r.content, 'html.parser')\n",
    "    rows_value = soup.select('tr td font b')\n",
    "    rows_date = soup.select('tr td font')\n",
    "    li_valeurs.extend(rows_value[1:len(rows_value) - 1])\n",
    "    for mois in range(len(rows_value)-1):\n",
    "        for jour in range(1, 31):\n",
    "            if mois < 10:    \n",
    "                if jour < 10:\n",
    "                    data_fuel_all['0' + str(jour) + '/' + '0' + str(mois+1) + '/' + str(an)] = rows_value[mois].text[:5]\n",
    "                else :\n",
    "                    data_fuel_all[str(jour) + '/' + '0' + str(mois+1) + '/' + str(an)] = rows_value[mois].text[:5]\n",
    "            else : \n",
    "                if jour < 10:\n",
    "                    data_fuel_all['0' + str(jour) + '/' + str(mois+1) + '/' + str(an)] = rows_value[mois].text[:5]\n",
    "                else :\n",
    "                    data_fuel_all[str(jour) + '/' + str(mois+1) + '/' + str(an)] = rows_value[mois].text[:5]"
   ],
   "outputs": [],
   "metadata": {}
  },
  {
   "cell_type": "code",
   "execution_count": 22,
   "source": [
    "# data_fuel_all`"
   ],
   "outputs": [],
   "metadata": {
    "collapsed": true
   }
  },
  {
   "cell_type": "markdown",
   "source": [
    "## Coils (MEPS) "
   ],
   "metadata": {}
  },
  {
   "cell_type": "code",
   "execution_count": 23,
   "source": [
    "file = codecs.open('MEPS-Europe Hot Dipped Galvanised Coil Price Forecast.html')\n",
    "r = bytes(file.read(), 'utf-8')\n",
    "soup = BeautifulSoup(r, 'html.parser')\n",
    "rows_date = soup.select('tr td b')[3:]\n",
    "rows_value = soup.select('tr td.price')\n",
    "\n",
    "dic_coils = {}\n",
    "\n",
    "#permet de normaliser le format des dates (JJ/MM/AAAA)\n",
    "\n",
    "for k in range(len(rows_date)):\n",
    "    for i in range(1,32):\n",
    "        if i <= 9:\n",
    "            if (5 + k)%12 + 1 < 10:\n",
    "                dic_coils['0' + str(i) + '/0' + str((5 + k)%12 + 1) + '/' + rows_date[k].text[4:]] = float(rows_value[k].text)\n",
    "            else :\n",
    "                dic_coils['0' + str(i) + '/' + str((5 + k)%12 + 1) + '/' + rows_date[k].text[4:]] = float(rows_value[k].text)\n",
    "        else :\n",
    "            if (5 + k)%12 + 1 < 10:\n",
    "                dic_coils[str(i) + '/0' + str((5 + k)%12 + 1) + '/' + rows_date[k].text[4:]] = float(rows_value[k].text)\n",
    "            else :\n",
    "                dic_coils[str(i) + '/' + str((5 + k)%12 + 1) + '/' + rows_date[k].text[4:]] = float(rows_value[k].text)\n"
   ],
   "outputs": [],
   "metadata": {}
  },
  {
   "cell_type": "code",
   "execution_count": 24,
   "source": [
    "# dic_coils"
   ],
   "outputs": [],
   "metadata": {}
  },
  {
   "cell_type": "markdown",
   "source": [
    "## Beams (MEPS)"
   ],
   "metadata": {}
  },
  {
   "cell_type": "code",
   "execution_count": 25,
   "source": [
    "file = codecs.open('MEPS-Europe Sections & Beams Price Forecast.html')\n",
    "r = bytes(file.read(), 'utf-8')\n",
    "soup = BeautifulSoup(r, 'html.parser')\n",
    "rows_date = soup.select('tr td b')[3:]\n",
    "rows_value = soup.select('tr td.price')\n",
    "\n",
    "dic_beams = {}\n",
    "\n",
    "#permet de normaliser le format des dates (JJ/MM/AAAA)\n",
    "\n",
    "for k in range(len(rows_date)):\n",
    "    for i in range(1,32):\n",
    "        if i <= 9:\n",
    "            if (5 + k)%12 + 1 < 10:\n",
    "                dic_beams['0' + str(i) + '/0' + str((5 + k)%12 + 1) + '/' + rows_date[k].text[4:]] = float(rows_value[k].text)\n",
    "            else :\n",
    "                dic_beams['0' + str(i) + '/' + str((5 + k)%12 + 1) + '/' + rows_date[k].text[4:]] = float(rows_value[k].text)\n",
    "        else :\n",
    "            if (5 + k)%12 + 1 < 10:\n",
    "                dic_beams[str(i) + '/0' + str((5 + k)%12 + 1) + '/' + rows_date[k].text[4:]] = float(rows_value[k].text)\n",
    "            else :\n",
    "                dic_beams[str(i) + '/' + str((5 + k)%12 + 1) + '/' + rows_date[k].text[4:]] = float(rows_value[k].text)\n"
   ],
   "outputs": [],
   "metadata": {}
  },
  {
   "cell_type": "code",
   "execution_count": 26,
   "source": [
    "# dic_beams"
   ],
   "outputs": [],
   "metadata": {
    "collapsed": true
   }
  },
  {
   "cell_type": "markdown",
   "source": [
    "## Enregistrement en dataframe"
   ],
   "metadata": {}
  },
  {
   "cell_type": "code",
   "execution_count": 27,
   "source": [
    "#convertit le dictionnaire data en dataframe en convertissant les valeurs par des float\n",
    "\n",
    "df_alu_alloy = pd.DataFrame.from_dict(data_alu_alloy, orient = 'index', columns = ['aluminium (USD)'])\n",
    "df_alu_alloy['aluminium (USD)'] = df_alu_alloy['aluminium (USD)'].str.replace(' ', '')\n",
    "df_alu_alloy['aluminium (USD)'] = pd.to_numeric(df_alu_alloy['aluminium (USD)'], errors='coerce')\n",
    "\n",
    "df_taux_de_change = pd.DataFrame.from_dict(data_taux_de_change, orient = 'index', columns = ['USD/EUROS'])\n",
    "df_taux_de_change['USD/EUROS'] = pd.to_numeric(df_taux_de_change['USD/EUROS'], errors='coerce')\n",
    "\n",
    "df_copper = pd.DataFrame.from_dict(data_copper, orient = 'index', columns = ['copper'])\n",
    "df_copper['copper'] = df_copper['copper'].str.replace(' ', '')\n",
    "df_copper['copper'] = pd.to_numeric(df_copper['copper'], errors='coerce')\n",
    "\n",
    "df_fuel_fr = pd.DataFrame.from_dict(data_fuel_fr, orient = 'index', columns = ['fuel fr EUR/L'])\n",
    "df_fuel_fr['fuel fr EUR/L'] = df_fuel_fr['fuel fr EUR/L'].str.replace(' ', '')\n",
    "df_fuel_fr['fuel fr EUR/L'] = pd.to_numeric(df_fuel_fr['fuel fr EUR/L'], errors='coerce')\n",
    "\n",
    "df_coils = pd.DataFrame.from_dict(dic_coils, orient = 'index', columns = ['coils EUR/ton'])\n",
    "\n",
    "df_beams = pd.DataFrame.from_dict(dic_beams, orient = 'index', columns = ['beams EUR/ton'])\n",
    "\n",
    "df_fuel_all = pd.DataFrame.from_dict(data_fuel_all, orient = 'index', columns = ['fuel all EUR/L'])\n",
    "df_fuel_all['fuel all EUR/L'] = df_fuel_all['fuel all EUR/L'].str.replace(',', '.')\n",
    "df_fuel_all['fuel all EUR/L'] = pd.to_numeric(df_fuel_all['fuel all EUR/L'], errors='coerce')\n",
    "\n"
   ],
   "outputs": [],
   "metadata": {}
  },
  {
   "cell_type": "code",
   "execution_count": 36,
   "source": [
    "df_alu_alloy.head()"
   ],
   "outputs": [
    {
     "output_type": "execute_result",
     "data": {
      "text/html": [
       "<div>\n",
       "<style scoped>\n",
       "    .dataframe tbody tr th:only-of-type {\n",
       "        vertical-align: middle;\n",
       "    }\n",
       "\n",
       "    .dataframe tbody tr th {\n",
       "        vertical-align: top;\n",
       "    }\n",
       "\n",
       "    .dataframe thead th {\n",
       "        text-align: right;\n",
       "    }\n",
       "</style>\n",
       "<table border=\"1\" class=\"dataframe\">\n",
       "  <thead>\n",
       "    <tr style=\"text-align: right;\">\n",
       "      <th></th>\n",
       "      <th>aluminium (USD)</th>\n",
       "    </tr>\n",
       "  </thead>\n",
       "  <tbody>\n",
       "    <tr>\n",
       "      <th>04/03/2016</th>\n",
       "      <td>1642.5</td>\n",
       "    </tr>\n",
       "    <tr>\n",
       "      <th>03/03/2016</th>\n",
       "      <td>1642.5</td>\n",
       "    </tr>\n",
       "    <tr>\n",
       "      <th>02/03/2016</th>\n",
       "      <td>1603.0</td>\n",
       "    </tr>\n",
       "    <tr>\n",
       "      <th>01/03/2016</th>\n",
       "      <td>1588.0</td>\n",
       "    </tr>\n",
       "    <tr>\n",
       "      <th>29/02/2016</th>\n",
       "      <td>1635.0</td>\n",
       "    </tr>\n",
       "  </tbody>\n",
       "</table>\n",
       "</div>"
      ],
      "text/plain": [
       "            aluminium (USD)\n",
       "04/03/2016           1642.5\n",
       "03/03/2016           1642.5\n",
       "02/03/2016           1603.0\n",
       "01/03/2016           1588.0\n",
       "29/02/2016           1635.0"
      ]
     },
     "metadata": {},
     "execution_count": 36
    }
   ],
   "metadata": {}
  },
  {
   "cell_type": "markdown",
   "source": [
    "## Enregistrement sous le format .csv"
   ],
   "metadata": {}
  },
  {
   "cell_type": "code",
   "execution_count": 31,
   "source": [
    "#cree un fichier csv avec en index les dates et en colonne les cours aux différents moments\n",
    "\n",
    "df_alu_alloy.to_csv (r'Alu_alloy_LME.csv', index = True, header=True)\n",
    "df_taux_de_change.to_csv (r'Taux_echange.csv', index = True, header=True)\n",
    "df_copper.to_csv (r'copper_LME.csv', index = True, header=True)\n",
    "df_fuel_fr.to_csv(r'fuel_fr.csv', index = True, header=True)\n",
    "df_coils.to_csv(r'coils.csv', index = True, header=True)\n",
    "df_beams.to_csv(r'beams.csv', index=True, header = True)\n",
    "df_fuel_all.to_csv(r'beams.csv', index=True, header = True)"
   ],
   "outputs": [],
   "metadata": {}
  },
  {
   "cell_type": "markdown",
   "source": [
    "## Construction tableau final "
   ],
   "metadata": {}
  },
  {
   "cell_type": "code",
   "execution_count": 32,
   "source": [
    "#on réunit toutes les données\n",
    "\n",
    "tab_f = df_alu_alloy.join(df_taux_de_change).join(df_copper)\n",
    "tab_f = tab_f.join(df_brent_vrai)\n",
    "tab_f = tab_f.join(df_fuel_fr)\n",
    "tab_f = tab_f.join(df_coils)\n",
    "tab_f = tab_f.join(df_beams)\n",
    "tab_f = tab_f.join(df_fuel_all)"
   ],
   "outputs": [],
   "metadata": {}
  },
  {
   "cell_type": "code",
   "execution_count": 33,
   "source": [
    "#conversion en euros\n",
    "\n",
    "tab_f['aluminium (USD)'] = tab_f['aluminium (USD)']*tab_f['USD/EUROS']\n",
    "tab_f['Brent (dollar per barrel)'] = tab_f['Brent (dollar per barrel)']*tab_f['USD/EUROS']\n",
    "tab_f.columns = ['aluminium (EUR)', 'USD/EUROS', 'copper', 'Brent (EUR/barrel)', 'fuel fr EUR/L', 'coils EUR/ton', 'beams EUR/ton', 'fuel all EUR/L']"
   ],
   "outputs": [],
   "metadata": {}
  },
  {
   "cell_type": "code",
   "execution_count": 35,
   "source": [
    "tab_f.head()"
   ],
   "outputs": [
    {
     "output_type": "execute_result",
     "data": {
      "text/html": [
       "<div>\n",
       "<style scoped>\n",
       "    .dataframe tbody tr th:only-of-type {\n",
       "        vertical-align: middle;\n",
       "    }\n",
       "\n",
       "    .dataframe tbody tr th {\n",
       "        vertical-align: top;\n",
       "    }\n",
       "\n",
       "    .dataframe thead th {\n",
       "        text-align: right;\n",
       "    }\n",
       "</style>\n",
       "<table border=\"1\" class=\"dataframe\">\n",
       "  <thead>\n",
       "    <tr style=\"text-align: right;\">\n",
       "      <th></th>\n",
       "      <th>aluminium (EUR)</th>\n",
       "      <th>USD/EUROS</th>\n",
       "      <th>copper</th>\n",
       "      <th>Brent (EUR/barrel)</th>\n",
       "      <th>fuel fr EUR/L</th>\n",
       "      <th>coils EUR/ton</th>\n",
       "      <th>beams EUR/ton</th>\n",
       "      <th>fuel all EUR/L</th>\n",
       "    </tr>\n",
       "  </thead>\n",
       "  <tbody>\n",
       "    <tr>\n",
       "      <th>04/03/2016</th>\n",
       "      <td>1494.675</td>\n",
       "      <td>0.91</td>\n",
       "      <td>4997.5</td>\n",
       "      <td>NaN</td>\n",
       "      <td>0.8823</td>\n",
       "      <td>NaN</td>\n",
       "      <td>NaN</td>\n",
       "      <td>1.039</td>\n",
       "    </tr>\n",
       "    <tr>\n",
       "      <th>03/03/2016</th>\n",
       "      <td>1494.675</td>\n",
       "      <td>0.91</td>\n",
       "      <td>4823.0</td>\n",
       "      <td>NaN</td>\n",
       "      <td>0.8823</td>\n",
       "      <td>NaN</td>\n",
       "      <td>NaN</td>\n",
       "      <td>1.039</td>\n",
       "    </tr>\n",
       "    <tr>\n",
       "      <th>02/03/2016</th>\n",
       "      <td>1474.760</td>\n",
       "      <td>0.92</td>\n",
       "      <td>4769.0</td>\n",
       "      <td>NaN</td>\n",
       "      <td>0.8823</td>\n",
       "      <td>NaN</td>\n",
       "      <td>NaN</td>\n",
       "      <td>1.039</td>\n",
       "    </tr>\n",
       "    <tr>\n",
       "      <th>01/03/2016</th>\n",
       "      <td>1460.960</td>\n",
       "      <td>0.92</td>\n",
       "      <td>4698.5</td>\n",
       "      <td>NaN</td>\n",
       "      <td>0.8823</td>\n",
       "      <td>NaN</td>\n",
       "      <td>NaN</td>\n",
       "      <td>1.039</td>\n",
       "    </tr>\n",
       "    <tr>\n",
       "      <th>29/02/2016</th>\n",
       "      <td>1504.200</td>\n",
       "      <td>0.92</td>\n",
       "      <td>4678.0</td>\n",
       "      <td>NaN</td>\n",
       "      <td>0.8468</td>\n",
       "      <td>NaN</td>\n",
       "      <td>NaN</td>\n",
       "      <td>0.995</td>\n",
       "    </tr>\n",
       "  </tbody>\n",
       "</table>\n",
       "</div>"
      ],
      "text/plain": [
       "            aluminium (EUR)  USD/EUROS  copper  Brent (EUR/barrel)  \\\n",
       "04/03/2016         1494.675       0.91  4997.5                 NaN   \n",
       "03/03/2016         1494.675       0.91  4823.0                 NaN   \n",
       "02/03/2016         1474.760       0.92  4769.0                 NaN   \n",
       "01/03/2016         1460.960       0.92  4698.5                 NaN   \n",
       "29/02/2016         1504.200       0.92  4678.0                 NaN   \n",
       "\n",
       "            fuel fr EUR/L  coils EUR/ton  beams EUR/ton  fuel all EUR/L  \n",
       "04/03/2016         0.8823            NaN            NaN           1.039  \n",
       "03/03/2016         0.8823            NaN            NaN           1.039  \n",
       "02/03/2016         0.8823            NaN            NaN           1.039  \n",
       "01/03/2016         0.8823            NaN            NaN           1.039  \n",
       "29/02/2016         0.8468            NaN            NaN           0.995  "
      ]
     },
     "metadata": {},
     "execution_count": 35
    }
   ],
   "metadata": {}
  },
  {
   "cell_type": "code",
   "execution_count": 37,
   "source": [
    "tab_f.plot()"
   ],
   "outputs": [
    {
     "output_type": "execute_result",
     "data": {
      "text/plain": [
       "<AxesSubplot:>"
      ]
     },
     "metadata": {},
     "execution_count": 37
    },
    {
     "output_type": "display_data",
     "data": {
      "image/png": "[encoded data removed]",
      "text/plain": [
       "<Figure size 432x288 with 1 Axes>"
      ]
     },
     "metadata": {
      "needs_background": "light"
     }
    }
   ],
   "metadata": {}
  },
  {
   "cell_type": "code",
   "execution_count": 38,
   "source": [
    "#on enregistre les données selon un format plus pratique pour la suite\n",
    "\n",
    "tab_f['Date'] = tab_f.index\n",
    "tab_melted = pd.melt(tab_f, id_vars=['Date'])\n",
    "tab_melted.to_csv(r'tableau_final.csv', index = True, header = True)"
   ],
   "outputs": [],
   "metadata": {}
  },
  {
   "cell_type": "code",
   "execution_count": 40,
   "source": [
    "tab_melted.head()"
   ],
   "outputs": [
    {
     "output_type": "execute_result",
     "data": {
      "text/html": [
       "<div>\n",
       "<style scoped>\n",
       "    .dataframe tbody tr th:only-of-type {\n",
       "        vertical-align: middle;\n",
       "    }\n",
       "\n",
       "    .dataframe tbody tr th {\n",
       "        vertical-align: top;\n",
       "    }\n",
       "\n",
       "    .dataframe thead th {\n",
       "        text-align: right;\n",
       "    }\n",
       "</style>\n",
       "<table border=\"1\" class=\"dataframe\">\n",
       "  <thead>\n",
       "    <tr style=\"text-align: right;\">\n",
       "      <th></th>\n",
       "      <th>Date</th>\n",
       "      <th>variable</th>\n",
       "      <th>value</th>\n",
       "    </tr>\n",
       "  </thead>\n",
       "  <tbody>\n",
       "    <tr>\n",
       "      <th>0</th>\n",
       "      <td>04/03/2016</td>\n",
       "      <td>aluminium (EUR)</td>\n",
       "      <td>1494.675</td>\n",
       "    </tr>\n",
       "    <tr>\n",
       "      <th>1</th>\n",
       "      <td>03/03/2016</td>\n",
       "      <td>aluminium (EUR)</td>\n",
       "      <td>1494.675</td>\n",
       "    </tr>\n",
       "    <tr>\n",
       "      <th>2</th>\n",
       "      <td>02/03/2016</td>\n",
       "      <td>aluminium (EUR)</td>\n",
       "      <td>1474.760</td>\n",
       "    </tr>\n",
       "    <tr>\n",
       "      <th>3</th>\n",
       "      <td>01/03/2016</td>\n",
       "      <td>aluminium (EUR)</td>\n",
       "      <td>1460.960</td>\n",
       "    </tr>\n",
       "    <tr>\n",
       "      <th>4</th>\n",
       "      <td>29/02/2016</td>\n",
       "      <td>aluminium (EUR)</td>\n",
       "      <td>1504.200</td>\n",
       "    </tr>\n",
       "  </tbody>\n",
       "</table>\n",
       "</div>"
      ],
      "text/plain": [
       "         Date         variable     value\n",
       "0  04/03/2016  aluminium (EUR)  1494.675\n",
       "1  03/03/2016  aluminium (EUR)  1494.675\n",
       "2  02/03/2016  aluminium (EUR)  1474.760\n",
       "3  01/03/2016  aluminium (EUR)  1460.960\n",
       "4  29/02/2016  aluminium (EUR)  1504.200"
      ]
     },
     "metadata": {},
     "execution_count": 40
    }
   ],
   "metadata": {}
  }
 ],
 "metadata": {
  "kernelspec": {
   "name": "python3",
   "display_name": "Python 3.9.13 64-bit ('projet_info_06_2022': conda)"
  },
  "language_info": {
   "codemirror_mode": {
    "name": "ipython",
    "version": 3
   },
   "file_extension": ".py",
   "mimetype": "text/x-python",
   "name": "python",
   "nbconvert_exporter": "python",
   "pygments_lexer": "ipython3",
   "version": "3.9.13"
  },
  "interpreter": {
   "hash": "afaf06626857f2966f9091e3b4cbf88444f56e77e76574badd97a448f67392c9"
  }
 },
 "nbformat": 4,
 "nbformat_minor": 5
}