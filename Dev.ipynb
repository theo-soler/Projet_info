{
 "cells": [
  {
   "cell_type": "code",
   "execution_count": 29,
   "source": [
    "import pandas as pd\n",
    "import numpy as np"
   ],
   "outputs": [],
   "metadata": {}
  },
  {
   "cell_type": "markdown",
   "source": [
    "## Moyenne Par Mois"
   ],
   "metadata": {}
  },
  {
   "cell_type": "code",
   "execution_count": 33,
   "source": [
    "tab = pd.read_csv('tableau_final.csv', index_col = \"Index\")\n",
    "\n",
    "tab['Month/Year'] = tab[\"Date\"].str[3:5] + \"/\" + tab[\"Date\"].str[8:10]\n",
    "\n",
    "print(tab)\n",
    "\n",
    "tab = np.round(tab.groupby(['Month/Year','variable'], as_index=False)['value'].mean(), decimals = 2)\n",
    "\n",
    "tab.head()"
   ],
   "outputs": [
    {
     "output_type": "stream",
     "name": "stdout",
     "text": [
      "             Date         variable     value Month/Year\n",
      "Index                                                  \n",
      "0      04/03/2016  aluminium (EUR)  1494.675      03/16\n",
      "1      03/03/2016  aluminium (EUR)  1494.675      03/16\n",
      "2      02/03/2016  aluminium (EUR)  1474.760      03/16\n",
      "3      01/03/2016  aluminium (EUR)  1460.960      03/16\n",
      "4      29/02/2016  aluminium (EUR)  1504.200      02/16\n",
      "...           ...              ...       ...        ...\n",
      "11643  16/03/2022   fuel all EUR/L     2.145      03/22\n",
      "11644  15/03/2022   fuel all EUR/L     2.145      03/22\n",
      "11645  14/03/2022   fuel all EUR/L     2.145      03/22\n",
      "11646  10/03/2022   fuel all EUR/L     2.145      03/22\n",
      "11647  09/03/2022   fuel all EUR/L     2.145      03/22\n",
      "\n",
      "[11648 rows x 4 columns]\n"
     ]
    },
    {
     "output_type": "execute_result",
     "data": {
      "text/html": [
       "<div>\n",
       "<style scoped>\n",
       "    .dataframe tbody tr th:only-of-type {\n",
       "        vertical-align: middle;\n",
       "    }\n",
       "\n",
       "    .dataframe tbody tr th {\n",
       "        vertical-align: top;\n",
       "    }\n",
       "\n",
       "    .dataframe thead th {\n",
       "        text-align: right;\n",
       "    }\n",
       "</style>\n",
       "<table border=\"1\" class=\"dataframe\">\n",
       "  <thead>\n",
       "    <tr style=\"text-align: right;\">\n",
       "      <th></th>\n",
       "      <th>Month/Year</th>\n",
       "      <th>variable</th>\n",
       "      <th>value</th>\n",
       "    </tr>\n",
       "  </thead>\n",
       "  <tbody>\n",
       "    <tr>\n",
       "      <th>0</th>\n",
       "      <td>01/16</td>\n",
       "      <td>Brent (EUR/barrel)</td>\n",
       "      <td>NaN</td>\n",
       "    </tr>\n",
       "    <tr>\n",
       "      <th>1</th>\n",
       "      <td>01/16</td>\n",
       "      <td>USD/EUROS</td>\n",
       "      <td>0.92</td>\n",
       "    </tr>\n",
       "    <tr>\n",
       "      <th>2</th>\n",
       "      <td>01/16</td>\n",
       "      <td>aluminium (EUR)</td>\n",
       "      <td>1516.07</td>\n",
       "    </tr>\n",
       "    <tr>\n",
       "      <th>3</th>\n",
       "      <td>01/16</td>\n",
       "      <td>beams EUR/ton</td>\n",
       "      <td>NaN</td>\n",
       "    </tr>\n",
       "    <tr>\n",
       "      <th>4</th>\n",
       "      <td>01/16</td>\n",
       "      <td>coils EUR/ton</td>\n",
       "      <td>NaN</td>\n",
       "    </tr>\n",
       "  </tbody>\n",
       "</table>\n",
       "</div>"
      ],
      "text/plain": [
       "  Month/Year            variable    value\n",
       "0      01/16  Brent (EUR/barrel)      NaN\n",
       "1      01/16           USD/EUROS     0.92\n",
       "2      01/16     aluminium (EUR)  1516.07\n",
       "3      01/16       beams EUR/ton      NaN\n",
       "4      01/16       coils EUR/ton      NaN"
      ]
     },
     "metadata": {},
     "execution_count": 33
    }
   ],
   "metadata": {}
  },
  {
   "cell_type": "code",
   "execution_count": 34,
   "source": [
    "tab.to_csv(r'tableau_by_month.csv', index = True, header = True)"
   ],
   "outputs": [],
   "metadata": {}
  }
 ],
 "metadata": {
  "orig_nbformat": 4,
  "language_info": {
   "name": "python",
   "version": "3.9.13",
   "mimetype": "text/x-python",
   "codemirror_mode": {
    "name": "ipython",
    "version": 3
   },
   "pygments_lexer": "ipython3",
   "nbconvert_exporter": "python",
   "file_extension": ".py"
  },
  "kernelspec": {
   "name": "python3",
   "display_name": "Python 3.9.13 64-bit ('projet_info_06_2022': conda)"
  },
  "interpreter": {
   "hash": "afaf06626857f2966f9091e3b4cbf88444f56e77e76574badd97a448f67392c9"
  }
 },
 "nbformat": 4,
 "nbformat_minor": 2
}