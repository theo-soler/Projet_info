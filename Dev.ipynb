{
 "cells": [
  {
   "cell_type": "code",
   "execution_count": 29,
   "source": [
    "import pandas as pd\n",
    "import numpy as np"
   ],
   "outputs": [],
   "metadata": {}
  },
  {
   "cell_type": "markdown",
   "source": [
    "## Moyenne Par Mois"
   ],
   "metadata": {}
  },
  {
   "cell_type": "code",
   "execution_count": 30,
   "source": [
    "tab = pd.read_csv('tableau_final.csv', index_col = \"Index\")\n",
    "\n",
    "tab['Month/Year'] = tab[\"Date\"].str[3:5] + \"/\" + tab[\"Date\"].str[6:8]\n",
    "\n",
    "tab = np.round(tab.groupby(['Month/Year','variable'], as_index=False)['value'].mean(), decimals = 2)\n",
    "\n",
    "tab.head()"
   ],
   "outputs": [
    {
     "output_type": "execute_result",
     "data": {
      "text/html": [
       "<div>\n",
       "<style scoped>\n",
       "    .dataframe tbody tr th:only-of-type {\n",
       "        vertical-align: middle;\n",
       "    }\n",
       "\n",
       "    .dataframe tbody tr th {\n",
       "        vertical-align: top;\n",
       "    }\n",
       "\n",
       "    .dataframe thead th {\n",
       "        text-align: right;\n",
       "    }\n",
       "</style>\n",
       "<table border=\"1\" class=\"dataframe\">\n",
       "  <thead>\n",
       "    <tr style=\"text-align: right;\">\n",
       "      <th></th>\n",
       "      <th>Month/Year</th>\n",
       "      <th>variable</th>\n",
       "      <th>value</th>\n",
       "    </tr>\n",
       "  </thead>\n",
       "  <tbody>\n",
       "    <tr>\n",
       "      <th>0</th>\n",
       "      <td>01/20</td>\n",
       "      <td>Brent (EUR/barrel)</td>\n",
       "      <td>56.60</td>\n",
       "    </tr>\n",
       "    <tr>\n",
       "      <th>1</th>\n",
       "      <td>01/20</td>\n",
       "      <td>USD/EUROS</td>\n",
       "      <td>0.88</td>\n",
       "    </tr>\n",
       "    <tr>\n",
       "      <th>2</th>\n",
       "      <td>01/20</td>\n",
       "      <td>aluminium (EUR)</td>\n",
       "      <td>1521.41</td>\n",
       "    </tr>\n",
       "    <tr>\n",
       "      <th>3</th>\n",
       "      <td>01/20</td>\n",
       "      <td>beams EUR/ton</td>\n",
       "      <td>717.91</td>\n",
       "    </tr>\n",
       "    <tr>\n",
       "      <th>4</th>\n",
       "      <td>01/20</td>\n",
       "      <td>coils EUR/ton</td>\n",
       "      <td>816.32</td>\n",
       "    </tr>\n",
       "  </tbody>\n",
       "</table>\n",
       "</div>"
      ],
      "text/plain": [
       "  Month/Year            variable    value\n",
       "0      01/20  Brent (EUR/barrel)    56.60\n",
       "1      01/20           USD/EUROS     0.88\n",
       "2      01/20     aluminium (EUR)  1521.41\n",
       "3      01/20       beams EUR/ton   717.91\n",
       "4      01/20       coils EUR/ton   816.32"
      ]
     },
     "metadata": {},
     "execution_count": 30
    }
   ],
   "metadata": {}
  },
  {
   "cell_type": "code",
   "execution_count": 31,
   "source": [
    "tab.to_csv(r'tableau_by_month.csv', index = True, header = True)"
   ],
   "outputs": [],
   "metadata": {}
  }
 ],
 "metadata": {
  "orig_nbformat": 4,
  "language_info": {
   "name": "python",
   "version": "3.9.13",
   "mimetype": "text/x-python",
   "codemirror_mode": {
    "name": "ipython",
    "version": 3
   },
   "pygments_lexer": "ipython3",
   "nbconvert_exporter": "python",
   "file_extension": ".py"
  },
  "kernelspec": {
   "name": "python3",
   "display_name": "Python 3.9.13 64-bit ('projet_info_06_2022': conda)"
  },
  "interpreter": {
   "hash": "afaf06626857f2966f9091e3b4cbf88444f56e77e76574badd97a448f67392c9"
  }
 },
 "nbformat": 4,
 "nbformat_minor": 2
}